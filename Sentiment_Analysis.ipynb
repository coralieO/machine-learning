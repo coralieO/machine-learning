{
 "cells": [
  {
   "cell_type": "markdown",
   "id": "67e95e27",
   "metadata": {},
   "source": [
    "# Projet d'Analyse de Sentiment\n",
    "---\n",
    "\n",
    "## Equipe\n",
    "---\n",
    "\n",
    "OUEDRAOGO Coralie <br>\n",
    "MARTINET Alexis <br>\n",
    "SAINT MARTIN Julie <br>\n",
    "BAZANA NTOMO Fideline <br>\n"
   ]
  },
  {
   "cell_type": "code",
   "execution_count": 57,
   "id": "0523d0bc",
   "metadata": {},
   "outputs": [],
   "source": [
    "import pandas as pd\n",
    "import warnings\n",
    "warnings.filterwarnings('ignore')"
   ]
  },
  {
   "cell_type": "code",
   "execution_count": 23,
   "id": "a8ffb3ad",
   "metadata": {},
   "outputs": [],
   "source": [
    "df = pd.read_csv('text_sentiment.csv')"
   ]
  },
  {
   "cell_type": "code",
   "execution_count": 24,
   "id": "d38f43c0",
   "metadata": {
    "scrolled": true
   },
   "outputs": [
    {
     "data": {
      "text/html": [
       "<div>\n",
       "<style scoped>\n",
       "    .dataframe tbody tr th:only-of-type {\n",
       "        vertical-align: middle;\n",
       "    }\n",
       "\n",
       "    .dataframe tbody tr th {\n",
       "        vertical-align: top;\n",
       "    }\n",
       "\n",
       "    .dataframe thead th {\n",
       "        text-align: right;\n",
       "    }\n",
       "</style>\n",
       "<table border=\"1\" class=\"dataframe\">\n",
       "  <thead>\n",
       "    <tr style=\"text-align: right;\">\n",
       "      <th></th>\n",
       "      <th>tweet_id</th>\n",
       "      <th>sentiment</th>\n",
       "      <th>author</th>\n",
       "      <th>content</th>\n",
       "    </tr>\n",
       "  </thead>\n",
       "  <tbody>\n",
       "    <tr>\n",
       "      <th>0</th>\n",
       "      <td>1956967341</td>\n",
       "      <td>empty</td>\n",
       "      <td>xoshayzers</td>\n",
       "      <td>@tiffanylue i know  i was listenin to bad habi...</td>\n",
       "    </tr>\n",
       "    <tr>\n",
       "      <th>1</th>\n",
       "      <td>1956967666</td>\n",
       "      <td>sadness</td>\n",
       "      <td>wannamama</td>\n",
       "      <td>Layin n bed with a headache  ughhhh...waitin o...</td>\n",
       "    </tr>\n",
       "    <tr>\n",
       "      <th>2</th>\n",
       "      <td>1956967696</td>\n",
       "      <td>sadness</td>\n",
       "      <td>coolfunky</td>\n",
       "      <td>Funeral ceremony...gloomy friday...</td>\n",
       "    </tr>\n",
       "    <tr>\n",
       "      <th>3</th>\n",
       "      <td>1956967789</td>\n",
       "      <td>enthusiasm</td>\n",
       "      <td>czareaquino</td>\n",
       "      <td>wants to hang out with friends SOON!</td>\n",
       "    </tr>\n",
       "    <tr>\n",
       "      <th>4</th>\n",
       "      <td>1956968416</td>\n",
       "      <td>neutral</td>\n",
       "      <td>xkilljoyx</td>\n",
       "      <td>@dannycastillo We want to trade with someone w...</td>\n",
       "    </tr>\n",
       "  </tbody>\n",
       "</table>\n",
       "</div>"
      ],
      "text/plain": [
       "     tweet_id   sentiment       author  \\\n",
       "0  1956967341       empty   xoshayzers   \n",
       "1  1956967666     sadness    wannamama   \n",
       "2  1956967696     sadness    coolfunky   \n",
       "3  1956967789  enthusiasm  czareaquino   \n",
       "4  1956968416     neutral    xkilljoyx   \n",
       "\n",
       "                                             content  \n",
       "0  @tiffanylue i know  i was listenin to bad habi...  \n",
       "1  Layin n bed with a headache  ughhhh...waitin o...  \n",
       "2                Funeral ceremony...gloomy friday...  \n",
       "3               wants to hang out with friends SOON!  \n",
       "4  @dannycastillo We want to trade with someone w...  "
      ]
     },
     "execution_count": 24,
     "metadata": {},
     "output_type": "execute_result"
    }
   ],
   "source": [
    "df.head()"
   ]
  },
  {
   "cell_type": "markdown",
   "id": "16bbe57a",
   "metadata": {},
   "source": [
    "## Suppression des colonnes 'tweet_id' et 'author'\n",
    "\n",
    "---\n",
    "\n",
    "\n",
    "- La colonne comporte 40000 valeurs distinctes puisqu'elle sert donc à identifier les différentes lignes (tweets) <br>\n",
    "- Elle n'est donc pas nécessaire pour notre analyse <br> <br>\n",
    "\n",
    "- La colonne 'author' n'est également pas utile également pour notre étude, nous pouvons la supprimer"
   ]
  },
  {
   "cell_type": "code",
   "execution_count": 25,
   "id": "602d90e9",
   "metadata": {},
   "outputs": [
    {
     "name": "stdout",
     "output_type": "stream",
     "text": [
      "(40000, 4)\n",
      "tweet_id     40000\n",
      "sentiment       13\n",
      "author       33871\n",
      "content      39827\n",
      "dtype: int64\n"
     ]
    }
   ],
   "source": [
    "print(df.shape)\n",
    "print(df.nunique())"
   ]
  },
  {
   "cell_type": "code",
   "execution_count": 26,
   "id": "3d0b372f",
   "metadata": {},
   "outputs": [
    {
     "name": "stdout",
     "output_type": "stream",
     "text": [
      "(40000, 2)\n"
     ]
    }
   ],
   "source": [
    "df = df.drop(labels=['tweet_id', 'author'], axis=1)\n",
    "print(df.shape)"
   ]
  },
  {
   "cell_type": "code",
   "execution_count": 27,
   "id": "b9ef315f",
   "metadata": {},
   "outputs": [
    {
     "data": {
      "text/html": [
       "<div>\n",
       "<style scoped>\n",
       "    .dataframe tbody tr th:only-of-type {\n",
       "        vertical-align: middle;\n",
       "    }\n",
       "\n",
       "    .dataframe tbody tr th {\n",
       "        vertical-align: top;\n",
       "    }\n",
       "\n",
       "    .dataframe thead th {\n",
       "        text-align: right;\n",
       "    }\n",
       "</style>\n",
       "<table border=\"1\" class=\"dataframe\">\n",
       "  <thead>\n",
       "    <tr style=\"text-align: right;\">\n",
       "      <th></th>\n",
       "      <th>sentiment</th>\n",
       "      <th>content</th>\n",
       "    </tr>\n",
       "  </thead>\n",
       "  <tbody>\n",
       "    <tr>\n",
       "      <th>0</th>\n",
       "      <td>empty</td>\n",
       "      <td>@tiffanylue i know  i was listenin to bad habi...</td>\n",
       "    </tr>\n",
       "    <tr>\n",
       "      <th>1</th>\n",
       "      <td>sadness</td>\n",
       "      <td>Layin n bed with a headache  ughhhh...waitin o...</td>\n",
       "    </tr>\n",
       "    <tr>\n",
       "      <th>2</th>\n",
       "      <td>sadness</td>\n",
       "      <td>Funeral ceremony...gloomy friday...</td>\n",
       "    </tr>\n",
       "    <tr>\n",
       "      <th>3</th>\n",
       "      <td>enthusiasm</td>\n",
       "      <td>wants to hang out with friends SOON!</td>\n",
       "    </tr>\n",
       "    <tr>\n",
       "      <th>4</th>\n",
       "      <td>neutral</td>\n",
       "      <td>@dannycastillo We want to trade with someone w...</td>\n",
       "    </tr>\n",
       "  </tbody>\n",
       "</table>\n",
       "</div>"
      ],
      "text/plain": [
       "    sentiment                                            content\n",
       "0       empty  @tiffanylue i know  i was listenin to bad habi...\n",
       "1     sadness  Layin n bed with a headache  ughhhh...waitin o...\n",
       "2     sadness                Funeral ceremony...gloomy friday...\n",
       "3  enthusiasm               wants to hang out with friends SOON!\n",
       "4     neutral  @dannycastillo We want to trade with someone w..."
      ]
     },
     "execution_count": 27,
     "metadata": {},
     "output_type": "execute_result"
    }
   ],
   "source": [
    "df.head()"
   ]
  },
  {
   "cell_type": "markdown",
   "id": "5a001127",
   "metadata": {},
   "source": [
    "## Traitement des valeurs nulles\n",
    "\n",
    "---\n",
    "- On remarque qu'il n'y a aucune valeur nulle dans nos données"
   ]
  },
  {
   "cell_type": "code",
   "execution_count": 28,
   "id": "e3ebcc90",
   "metadata": {},
   "outputs": [
    {
     "data": {
      "text/plain": [
       "sentiment    0\n",
       "content      0\n",
       "dtype: int64"
      ]
     },
     "execution_count": 28,
     "metadata": {},
     "output_type": "execute_result"
    }
   ],
   "source": [
    "df.isna().sum()"
   ]
  },
  {
   "cell_type": "markdown",
   "id": "ae24e9a6",
   "metadata": {},
   "source": [
    "## Suppression des doublons\n",
    "\n",
    "---\n",
    "\n",
    "- Nous avons remarqué que 91 lignes étaient dupliquées dans notre dataframe <br>\n",
    "- Nous allons donc supprimer toutes les lignes dupliquées et ne conserver que les premières occurrences\n"
   ]
  },
  {
   "cell_type": "code",
   "execution_count": 48,
   "id": "765e151f",
   "metadata": {},
   "outputs": [
    {
     "data": {
      "text/plain": [
       "91"
      ]
     },
     "execution_count": 48,
     "metadata": {},
     "output_type": "execute_result"
    }
   ],
   "source": [
    "df.duplicated().sum()"
   ]
  },
  {
   "cell_type": "code",
   "execution_count": 49,
   "id": "e2f40716",
   "metadata": {
    "scrolled": true
   },
   "outputs": [
    {
     "data": {
      "text/html": [
       "<div>\n",
       "<style scoped>\n",
       "    .dataframe tbody tr th:only-of-type {\n",
       "        vertical-align: middle;\n",
       "    }\n",
       "\n",
       "    .dataframe tbody tr th {\n",
       "        vertical-align: top;\n",
       "    }\n",
       "\n",
       "    .dataframe thead th {\n",
       "        text-align: right;\n",
       "    }\n",
       "</style>\n",
       "<table border=\"1\" class=\"dataframe\">\n",
       "  <thead>\n",
       "    <tr style=\"text-align: right;\">\n",
       "      <th></th>\n",
       "      <th>sentiment</th>\n",
       "      <th>content</th>\n",
       "    </tr>\n",
       "  </thead>\n",
       "  <tbody>\n",
       "    <tr>\n",
       "      <th>30644</th>\n",
       "      <td>happiness</td>\n",
       "      <td>@JonathanRKnight BTW I STILL can't believe how...</td>\n",
       "    </tr>\n",
       "    <tr>\n",
       "      <th>37781</th>\n",
       "      <td>happiness</td>\n",
       "      <td>@andyclemmensen have you seen the game on the ...</td>\n",
       "    </tr>\n",
       "    <tr>\n",
       "      <th>33376</th>\n",
       "      <td>happiness</td>\n",
       "      <td>FREE UNLIMITED RINGTONES!!! - http://tinyurl.c...</td>\n",
       "    </tr>\n",
       "    <tr>\n",
       "      <th>33409</th>\n",
       "      <td>happiness</td>\n",
       "      <td>FREE UNLIMITED RINGTONES!!! - http://tinyurl.c...</td>\n",
       "    </tr>\n",
       "    <tr>\n",
       "      <th>33414</th>\n",
       "      <td>happiness</td>\n",
       "      <td>FREE UNLIMITED RINGTONES!!! - http://tinyurl.c...</td>\n",
       "    </tr>\n",
       "    <tr>\n",
       "      <th>...</th>\n",
       "      <td>...</td>\n",
       "      <td>...</td>\n",
       "    </tr>\n",
       "    <tr>\n",
       "      <th>18472</th>\n",
       "      <td>worry</td>\n",
       "      <td>My back hurts</td>\n",
       "    </tr>\n",
       "    <tr>\n",
       "      <th>8878</th>\n",
       "      <td>worry</td>\n",
       "      <td>My throat hurts</td>\n",
       "    </tr>\n",
       "    <tr>\n",
       "      <th>521</th>\n",
       "      <td>worry</td>\n",
       "      <td>Somebody please save the polar bears!</td>\n",
       "    </tr>\n",
       "    <tr>\n",
       "      <th>18130</th>\n",
       "      <td>worry</td>\n",
       "      <td>i have a headache</td>\n",
       "    </tr>\n",
       "    <tr>\n",
       "      <th>19670</th>\n",
       "      <td>worry</td>\n",
       "      <td>i have a headache</td>\n",
       "    </tr>\n",
       "  </tbody>\n",
       "</table>\n",
       "<p>91 rows × 2 columns</p>\n",
       "</div>"
      ],
      "text/plain": [
       "       sentiment                                            content\n",
       "30644  happiness  @JonathanRKnight BTW I STILL can't believe how...\n",
       "37781  happiness  @andyclemmensen have you seen the game on the ...\n",
       "33376  happiness  FREE UNLIMITED RINGTONES!!! - http://tinyurl.c...\n",
       "33409  happiness  FREE UNLIMITED RINGTONES!!! - http://tinyurl.c...\n",
       "33414  happiness  FREE UNLIMITED RINGTONES!!! - http://tinyurl.c...\n",
       "...          ...                                                ...\n",
       "18472      worry                                      My back hurts\n",
       "8878       worry                                    My throat hurts\n",
       "521        worry              Somebody please save the polar bears!\n",
       "18130      worry                                  i have a headache\n",
       "19670      worry                                  i have a headache\n",
       "\n",
       "[91 rows x 2 columns]"
      ]
     },
     "execution_count": 49,
     "metadata": {},
     "output_type": "execute_result"
    }
   ],
   "source": [
    "# Affichage des lignes lignes dupliquées\n",
    "df[df.duplicated()].sort_values(by=df.columns.to_list())"
   ]
  },
  {
   "cell_type": "code",
   "execution_count": 50,
   "id": "d6a171f3",
   "metadata": {
    "scrolled": false
   },
   "outputs": [
    {
     "data": {
      "text/html": [
       "<div>\n",
       "<style scoped>\n",
       "    .dataframe tbody tr th:only-of-type {\n",
       "        vertical-align: middle;\n",
       "    }\n",
       "\n",
       "    .dataframe tbody tr th {\n",
       "        vertical-align: top;\n",
       "    }\n",
       "\n",
       "    .dataframe thead th {\n",
       "        text-align: right;\n",
       "    }\n",
       "</style>\n",
       "<table border=\"1\" class=\"dataframe\">\n",
       "  <thead>\n",
       "    <tr style=\"text-align: right;\">\n",
       "      <th></th>\n",
       "      <th>sentiment</th>\n",
       "      <th>content</th>\n",
       "    </tr>\n",
       "  </thead>\n",
       "  <tbody>\n",
       "    <tr>\n",
       "      <th>29045</th>\n",
       "      <td>happiness</td>\n",
       "      <td>@JonathanRKnight BTW I STILL can't believe how...</td>\n",
       "    </tr>\n",
       "    <tr>\n",
       "      <th>30644</th>\n",
       "      <td>happiness</td>\n",
       "      <td>@JonathanRKnight BTW I STILL can't believe how...</td>\n",
       "    </tr>\n",
       "    <tr>\n",
       "      <th>37773</th>\n",
       "      <td>happiness</td>\n",
       "      <td>@andyclemmensen have you seen the game on the ...</td>\n",
       "    </tr>\n",
       "    <tr>\n",
       "      <th>37781</th>\n",
       "      <td>happiness</td>\n",
       "      <td>@andyclemmensen have you seen the game on the ...</td>\n",
       "    </tr>\n",
       "    <tr>\n",
       "      <th>33353</th>\n",
       "      <td>happiness</td>\n",
       "      <td>FREE UNLIMITED RINGTONES!!! - http://tinyurl.c...</td>\n",
       "    </tr>\n",
       "    <tr>\n",
       "      <th>...</th>\n",
       "      <td>...</td>\n",
       "      <td>...</td>\n",
       "    </tr>\n",
       "    <tr>\n",
       "      <th>454</th>\n",
       "      <td>worry</td>\n",
       "      <td>Somebody please save the polar bears!</td>\n",
       "    </tr>\n",
       "    <tr>\n",
       "      <th>521</th>\n",
       "      <td>worry</td>\n",
       "      <td>Somebody please save the polar bears!</td>\n",
       "    </tr>\n",
       "    <tr>\n",
       "      <th>14208</th>\n",
       "      <td>worry</td>\n",
       "      <td>i have a headache</td>\n",
       "    </tr>\n",
       "    <tr>\n",
       "      <th>18130</th>\n",
       "      <td>worry</td>\n",
       "      <td>i have a headache</td>\n",
       "    </tr>\n",
       "    <tr>\n",
       "      <th>19670</th>\n",
       "      <td>worry</td>\n",
       "      <td>i have a headache</td>\n",
       "    </tr>\n",
       "  </tbody>\n",
       "</table>\n",
       "<p>148 rows × 2 columns</p>\n",
       "</div>"
      ],
      "text/plain": [
       "       sentiment                                            content\n",
       "29045  happiness  @JonathanRKnight BTW I STILL can't believe how...\n",
       "30644  happiness  @JonathanRKnight BTW I STILL can't believe how...\n",
       "37773  happiness  @andyclemmensen have you seen the game on the ...\n",
       "37781  happiness  @andyclemmensen have you seen the game on the ...\n",
       "33353  happiness  FREE UNLIMITED RINGTONES!!! - http://tinyurl.c...\n",
       "...          ...                                                ...\n",
       "454        worry              Somebody please save the polar bears!\n",
       "521        worry              Somebody please save the polar bears!\n",
       "14208      worry                                  i have a headache\n",
       "18130      worry                                  i have a headache\n",
       "19670      worry                                  i have a headache\n",
       "\n",
       "[148 rows x 2 columns]"
      ]
     },
     "execution_count": 50,
     "metadata": {},
     "output_type": "execute_result"
    }
   ],
   "source": [
    "# Affichage de toutes les lignes dupliquées\n",
    "df[df.duplicated(keep=False)].sort_values(by=df.columns.to_list())"
   ]
  },
  {
   "cell_type": "code",
   "execution_count": 51,
   "id": "04195d75",
   "metadata": {},
   "outputs": [
    {
     "name": "stdout",
     "output_type": "stream",
     "text": [
      "(39909, 2)\n"
     ]
    }
   ],
   "source": [
    "df = df.drop_duplicates(keep='first', ignore_index=True)\n",
    "print(df.shape)"
   ]
  },
  {
   "cell_type": "markdown",
   "id": "3d7cd93e",
   "metadata": {},
   "source": [
    "## Conserver les lignes dont 'content' a plus de 1000 caractères\n",
    "\n",
    "---"
   ]
  },
  {
   "cell_type": "code",
   "execution_count": 232,
   "id": "a34c5b15",
   "metadata": {},
   "outputs": [
    {
     "data": {
      "text/plain": [
       "133"
      ]
     },
     "execution_count": 232,
     "metadata": {},
     "output_type": "execute_result"
    }
   ],
   "source": [
    "#df[df['content'].str.len() >= 100]\n",
    "df['content'].str.len().max()"
   ]
  },
  {
   "cell_type": "markdown",
   "id": "019f5ca2",
   "metadata": {},
   "source": [
    "## Nettoyage des données textuelles\n",
    "\n",
    "---\n",
    "\n",
    "- Suppression des mentions @, # <br>\n",
    "- Suppression des signes de ponctuations <br>\n",
    "- Suppression des stopwords <br>\n",
    "- Conversion en minuscule <br>"
   ]
  },
  {
   "cell_type": "code",
   "execution_count": 65,
   "id": "fb88d7b5",
   "metadata": {},
   "outputs": [],
   "source": [
    "import re, string\n",
    "from nltk.corpus import stopwords\n",
    "\n",
    "mention_regex = re.compile(r'@\\w+')\n",
    "hashtag_regex = re.compile(r'#\\w+')\n",
    "non_word_regex = re.compile(r'\\W+')\n",
    "space_regex = re.compile(r'\\s+')\n",
    "\n",
    "stop_words = set(stopwords.words('english'))\n",
    "punctuations = string.punctuation"
   ]
  },
  {
   "cell_type": "code",
   "execution_count": 66,
   "id": "97dea580",
   "metadata": {},
   "outputs": [],
   "source": [
    "def clean_text(text):\n",
    "    # Supprimer les mentions\n",
    "    text = mention_regex.sub('', text)\n",
    "    \n",
    "    # Supprimer les hashtags\n",
    "    text = hashtag_regex.sub('', text)\n",
    "    \n",
    "    # Supprimer tout ce qui n'est pas un mot\n",
    "    text = non_word_regex.sub(' ', text)\n",
    "    \n",
    "    # Convertir en minuscules\n",
    "    text = text.lower()\n",
    "    \n",
    "    # Supprimer les espaces de début et de fin\n",
    "    text = text.strip()\n",
    "    \n",
    "    # Supprimer tous les doublons d'espace\n",
    "    text = space_regex.sub(' ', text)\n",
    "    \n",
    "    # Supprimer les stopwords\n",
    "    non_stop_words = [word for word in text.split() if word not in stop_words]\n",
    "    text = ' '.join(non_stop_words)\n",
    "    \n",
    "    # Supprimer les signes de ponctuations\n",
    "    non_punctuation = [char for char in text if char not in punctuations]\n",
    "    text = ''.join(non_punctuation)\n",
    "    \n",
    "    return text"
   ]
  },
  {
   "cell_type": "code",
   "execution_count": 67,
   "id": "8961534a",
   "metadata": {},
   "outputs": [],
   "source": [
    "df['content'] = df['content'].apply(clean_text)"
   ]
  },
  {
   "cell_type": "markdown",
   "id": "da865024",
   "metadata": {},
   "source": [
    "## Traitement des différentes langues\n",
    "\n",
    "---\n",
    "\n",
    "- On ne garde que les lignes où la langue est l'anglais (en)"
   ]
  },
  {
   "cell_type": "code",
   "execution_count": 68,
   "id": "3932961a",
   "metadata": {},
   "outputs": [],
   "source": [
    "from langdetect import detect\n",
    "\n",
    "def detect_lang(text):\n",
    "    try:\n",
    "        return detect(text)\n",
    "    except:\n",
    "        return None"
   ]
  },
  {
   "cell_type": "code",
   "execution_count": 69,
   "id": "e867cf3a",
   "metadata": {},
   "outputs": [],
   "source": [
    "df = df[df['content'].apply(detect_lang) == 'en']"
   ]
  },
  {
   "cell_type": "code",
   "execution_count": 106,
   "id": "8bcc6db5",
   "metadata": {},
   "outputs": [],
   "source": [
    "# Ré-initialisation des index\n",
    "df = df.reset_index(drop=True)"
   ]
  },
  {
   "cell_type": "markdown",
   "id": "2e410a18",
   "metadata": {},
   "source": [
    "## Colonne 'sentiment'\n",
    "\n",
    "---\n",
    "\n",
    "- Le but de notre travail est de prédire les sentiments des tweets, la colonne 'sentiment' sera donc la variable cible"
   ]
  },
  {
   "cell_type": "code",
   "execution_count": 98,
   "id": "261f7844",
   "metadata": {},
   "outputs": [
    {
     "data": {
      "text/plain": [
       "<Axes: >"
      ]
     },
     "execution_count": 98,
     "metadata": {},
     "output_type": "execute_result"
    },
    {
     "data": {
      "image/png": "[encoded data removed]",
      "text/plain": [
       "<Figure size 640x480 with 1 Axes>"
      ]
     },
     "metadata": {},
     "output_type": "display_data"
    }
   ],
   "source": [
    "df['sentiment'].value_counts(ascending=True).plot(kind='barh')"
   ]
  },
  {
   "cell_type": "code",
   "execution_count": null,
   "id": "3ed2093c",
   "metadata": {},
   "outputs": [],
   "source": []
  },
  {
   "cell_type": "code",
   "execution_count": 109,
   "id": "7084f655",
   "metadata": {},
   "outputs": [
    {
     "data": {
      "text/html": [
       "<div>\n",
       "<style scoped>\n",
       "    .dataframe tbody tr th:only-of-type {\n",
       "        vertical-align: middle;\n",
       "    }\n",
       "\n",
       "    .dataframe tbody tr th {\n",
       "        vertical-align: top;\n",
       "    }\n",
       "\n",
       "    .dataframe thead th {\n",
       "        text-align: right;\n",
       "    }\n",
       "</style>\n",
       "<table border=\"1\" class=\"dataframe\">\n",
       "  <thead>\n",
       "    <tr style=\"text-align: right;\">\n",
       "      <th></th>\n",
       "      <th>sentiment</th>\n",
       "      <th>content</th>\n",
       "    </tr>\n",
       "  </thead>\n",
       "  <tbody>\n",
       "    <tr>\n",
       "      <th>0</th>\n",
       "      <td>empty</td>\n",
       "      <td>know listenin bad habit earlier started freaki...</td>\n",
       "    </tr>\n",
       "    <tr>\n",
       "      <th>1</th>\n",
       "      <td>sadness</td>\n",
       "      <td>layin n bed headache ughhhh waitin call</td>\n",
       "    </tr>\n",
       "    <tr>\n",
       "      <th>2</th>\n",
       "      <td>sadness</td>\n",
       "      <td>funeral ceremony gloomy friday</td>\n",
       "    </tr>\n",
       "    <tr>\n",
       "      <th>3</th>\n",
       "      <td>neutral</td>\n",
       "      <td>want trade someone houston tickets one</td>\n",
       "    </tr>\n",
       "    <tr>\n",
       "      <th>4</th>\n",
       "      <td>sadness</td>\n",
       "      <td>sleep im thinking old friend want married damn...</td>\n",
       "    </tr>\n",
       "    <tr>\n",
       "      <th>...</th>\n",
       "      <td>...</td>\n",
       "      <td>...</td>\n",
       "    </tr>\n",
       "    <tr>\n",
       "      <th>30209</th>\n",
       "      <td>happiness</td>\n",
       "      <td>succesfully following tayla</td>\n",
       "    </tr>\n",
       "    <tr>\n",
       "      <th>30210</th>\n",
       "      <td>love</td>\n",
       "      <td>happy mothers day love</td>\n",
       "    </tr>\n",
       "    <tr>\n",
       "      <th>30211</th>\n",
       "      <td>love</td>\n",
       "      <td>happy mother day mommies woman man long momma ...</td>\n",
       "    </tr>\n",
       "    <tr>\n",
       "      <th>30212</th>\n",
       "      <td>happiness</td>\n",
       "      <td>wassup beautiful follow peep new hit singles w...</td>\n",
       "    </tr>\n",
       "    <tr>\n",
       "      <th>30213</th>\n",
       "      <td>love</td>\n",
       "      <td>bullet train tokyo gf visiting japan since thu...</td>\n",
       "    </tr>\n",
       "  </tbody>\n",
       "</table>\n",
       "<p>30214 rows × 2 columns</p>\n",
       "</div>"
      ],
      "text/plain": [
       "       sentiment                                            content\n",
       "0          empty  know listenin bad habit earlier started freaki...\n",
       "1        sadness            layin n bed headache ughhhh waitin call\n",
       "2        sadness                     funeral ceremony gloomy friday\n",
       "3        neutral             want trade someone houston tickets one\n",
       "4        sadness  sleep im thinking old friend want married damn...\n",
       "...          ...                                                ...\n",
       "30209  happiness                        succesfully following tayla\n",
       "30210       love                             happy mothers day love\n",
       "30211       love  happy mother day mommies woman man long momma ...\n",
       "30212  happiness  wassup beautiful follow peep new hit singles w...\n",
       "30213       love  bullet train tokyo gf visiting japan since thu...\n",
       "\n",
       "[30214 rows x 2 columns]"
      ]
     },
     "execution_count": 109,
     "metadata": {},
     "output_type": "execute_result"
    }
   ],
   "source": [
    "df"
   ]
  },
  {
   "cell_type": "markdown",
   "id": "b5404540",
   "metadata": {},
   "source": [
    "## Stemming vs Lemmatization"
   ]
  },
  {
   "cell_type": "code",
   "execution_count": 229,
   "id": "35b53bd6",
   "metadata": {},
   "outputs": [],
   "source": [
    "from nltk.tokenize import word_tokenize\n",
    "from nltk.stem import WordNetLemmatizer, PorterStemmer\n",
    "from sklearn.ensemble import RandomForestClassifier\n",
    "from sklearn.svm import SVC"
   ]
  },
  {
   "cell_type": "code",
   "execution_count": 157,
   "id": "0b308d7e",
   "metadata": {},
   "outputs": [],
   "source": [
    "def preprocess_text(text, method='stemming'):\n",
    "    tokens = word_tokenize(text)\n",
    "    \n",
    "    if method == 'stemming':\n",
    "        processed_txt = [stemmer.stem(word) for word in tokens]\n",
    "        \n",
    "    if method == 'lemmatization':\n",
    "        processed_txt = [lemmatizer.lemmatize(word) for word in tokens]\n",
    "        \n",
    "    return ' '.join(processed_txt)\n",
    "\n",
    "\n",
    "def evaluate_with_method(model, method_txt, vectorizer=CountVectorizer()):\n",
    "    # Text pre-processing\n",
    "    x = df['content']\n",
    "    y = df['sentiment']\n",
    "    \n",
    "    if method_txt != '':\n",
    "        x = x.apply(preprocess_text, args=[method_txt])\n",
    "    \n",
    "    x = vectorizer.fit_transform(x)\n",
    "    \n",
    "    # Trainig / testing split\n",
    "    X_train, X_test, y_train, y_test = train_test_split(x, y, test_size=0.2, random_state=42)\n",
    "    \n",
    "    # Modelling\n",
    "    model.fit(X_train, y_train)\n",
    "    y_pred = model.predict(X_test)\n",
    "    \n",
    "    acc = accuracy_score(y_test, y_pred)\n",
    "    return acc"
   ]
  },
  {
   "cell_type": "code",
   "execution_count": 177,
   "id": "6f4779ec",
   "metadata": {},
   "outputs": [],
   "source": [
    "def evaluate_models(models, vectorizer):\n",
    "    stem_acc, lem_acc, simple_acc = [], [], []\n",
    "    \n",
    "    for model in models:\n",
    "        stem_acc.append(evaluate_with_method(model, 'stemming', vectorizer))\n",
    "        lem_acc.append(evaluate_with_method(model, 'lemmatization', vectorizer))\n",
    "        simple_acc.append(evaluate_with_method(model, '', vectorizer))\n",
    "    return stem_acc, lem_acc, simple_acc"
   ]
  },
  {
   "cell_type": "code",
   "execution_count": 226,
   "id": "6b8c46db",
   "metadata": {},
   "outputs": [],
   "source": [
    "def plots(models, names):\n",
    "    acc = []\n",
    "\n",
    "    l = [(CountVectorizer(), 'CountVectorizer'), \n",
    "         (TfidfVectorizer(), 'TfidfVectorizer'),\n",
    "         (CountVectorizer(ngram_range=(1, 2)), 'N-Gram')]\n",
    "\n",
    "    for vectorizer, name in l:\n",
    "        acc.append(evaluate_models(models, vectorizer))\n",
    "        \n",
    "    fig, axes = plt.subplots(1, 3, figsize=(24, 8))\n",
    "\n",
    "    all_values = [a for c in acc for b in c for a in b]\n",
    "    min_ = min(all_values) - 0.01\n",
    "    max_ = max(all_values) + 0.01\n",
    "\n",
    "    for i, ax in enumerate(axes.flatten()):\n",
    "\n",
    "        name = [name for _, name in l][i]\n",
    "        stem_acc, lem_acc, simple_acc = acc[i]\n",
    "\n",
    "        ax.plot(names, stem_acc, marker='o', color='r', label='Accuracy with Stemming')\n",
    "        ax.plot(names, lem_acc, marker='o', color='b', label='Accuracy with Lemmatization')\n",
    "        ax.plot(names, simple_acc, marker='o', color='g', label='Accuracy without anything')\n",
    "        ax.set_title('With ' + name)\n",
    "        ax.legend()\n",
    "\n",
    "        ax.set_ylim(min_, max_)\n",
    "\n",
    "    plt.tight_layout()\n",
    "    plt.show()"
   ]
  },
  {
   "cell_type": "code",
   "execution_count": 230,
   "id": "2e78e8f6",
   "metadata": {},
   "outputs": [
    {
     "data": {
      "image/png": "[encoded data removed]",
      "text/plain": [
       "<Figure size 2400x800 with 3 Axes>"
      ]
     },
     "metadata": {},
     "output_type": "display_data"
    }
   ],
   "source": [
    "models = [MultinomialNB(), BernoulliNB(), RandomForestClassifier(), SVC(probability=True)]\n",
    "names = ['MultinomialNB', 'BernoulliNB', 'RandomForestClassifier', 'SVC']\n",
    "\n",
    "plots(models[:2], names[:2])"
   ]
  },
  {
   "cell_type": "code",
   "execution_count": null,
   "id": "c86971f7",
   "metadata": {},
   "outputs": [],
   "source": []
  }
 ],
 "metadata": {
  "kernelspec": {
   "display_name": "Python 3 (ipykernel)",
   "language": "python",
   "name": "python3"
  },
  "language_info": {
   "codemirror_mode": {
    "name": "ipython",
    "version": 3
   },
   "file_extension": ".py",
   "mimetype": "text/x-python",
   "name": "python",
   "nbconvert_exporter": "python",
   "pygments_lexer": "ipython3",
   "version": "3.10.9"
  }
 },
 "nbformat": 4,
 "nbformat_minor": 5
}
